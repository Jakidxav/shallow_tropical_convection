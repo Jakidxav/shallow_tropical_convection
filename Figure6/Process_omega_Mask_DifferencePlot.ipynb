{
 "cells": [
  {
   "cell_type": "code",
   "execution_count": 1,
   "metadata": {},
   "outputs": [],
   "source": [
    "import os\n",
    "import netCDF4 as nc\n",
    "import numpy as np\n",
    "import pandas as pd\n",
    "from datetime import datetime\n",
    "\n",
    "import matplotlib.ticker as ticker\n",
    "import matplotlib as mpl\n",
    "import matplotlib.pyplot as plt\n",
    "import matplotlib.transforms as transform\n",
    "import matplotlib.cm as cm\n",
    "%matplotlib inline\n",
    "import cmocean\n",
    "import plotting\n",
    "from takeout import monthly_means_annual\n",
    "\n",
    "import copy"
   ]
  },
  {
   "cell_type": "code",
   "execution_count": 2,
   "metadata": {},
   "outputs": [],
   "source": [
    "# constant declarations\n",
    "#lat1 < lat2\n",
    "lat1 = -20\n",
    "lat2 = 20\n",
    "\n",
    "lat_lims = [lat1,lat2]\n",
    "\n",
    "\n",
    "#variable files on disk\n",
    "omega_file = '/home/jakidxav/Desktop/work_hartmann/erai_monthly/w/w.nc'\n",
    "omega_file_full = '/home/jakidxav/Desktop/work_hartmann/erai_monthly/mergeFiles/w_7917.nc'\n",
    "\n",
    "\n",
    "lon_list = [0, 20, 40, 60, 80, 100, 120, 140, 160, 180, 200, 220, 239]\n",
    "\n",
    "#lon_list_labels = [\"180W\", \"150W\", \"120W\", \"90W\", \"60W\", \"30W\", \"0\", \"30E\", \"60E\", \"90E\", \"120E\", \"150E\", \"180E\"]\n",
    "lon_list_labels = [0, 30, 60, 90, 120, 150, 180, 210, 240, 270, 300, 330, 358.5]\n",
    "\n",
    "shifted_lon_list = [60, 80, 100, 120, 140, 160, 180, 200, 220, 239, 0, 20, 40]\n",
    "shifted_lon_list_labels = [90, 120, 150, 180, 210, 240, 270, 300, 330, 358.5, 0, 30, 60]\n",
    "shifted_labels_eastWest = ['90E', '120E', '150E', '180', '150W', '120W', '90W', '60W', '30W', '0', '30E', '60E', '90E']\n",
    "\n",
    "#ytick_list = [36, 25, 21, 17, 14, 10, 9]\n",
    "p_tick_list = [0, 1, 5, 8, 12, 16, 28]\n",
    "p_list = [70, 100, 200, 300, 500, 700, 1000]\n",
    "z_list = [5, 10, 15, 20, 25]\n",
    "\n",
    "#for plotting\n",
    "vmin = -0.5\n",
    "vmax = 0.55\n",
    "contours = np.arange(vmin, vmax, 0.05)\n",
    "\n",
    "colormap = cmocean.cm.balance\n",
    "colorbar_label = r\"$Pa \\hspace{1} s^{-1}$\"\n",
    "\n",
    "left_title_diff = '[$-\\omega + \\omega$]'\n",
    "\n",
    "#It is actually omega, but weighted for regions where it is upward(or negative) between x˚S and x˚N.\n",
    "right_title_diff = '1989-2007'\n",
    "right_title_diff_full = '1979-2017'\n",
    "\n",
    "#axis labels\n",
    "p_label = 'Pressure (mb)'\n",
    "z_label = 'Height (km)'\n",
    "\n",
    "figure_name_diff = 'lon_omegaDifference_'+str(lat_lims[0])+'_'+str(lat_lims[1])+'_'+'area_weight_avg.pdf'\n",
    "figure_name_diff_full = 'lon_omegaDifference_'+str(lat_lims[0])+'_'+str(lat_lims[1])+'_'+'area_weight_avg_AllYears.pdf'"
   ]
  },
  {
   "cell_type": "markdown",
   "metadata": {},
   "source": [
    "# Data Import"
   ]
  },
  {
   "cell_type": "code",
   "execution_count": 3,
   "metadata": {},
   "outputs": [],
   "source": [
    "#read in data files\n",
    "#omega is in hPa NOT Pa\n",
    "omega_data = nc.Dataset(omega_file_full)\n",
    "\n",
    "#process variables\n",
    "omega = omega_data.variables['w'][:]\n",
    "\n",
    "lon  = omega_data.variables['longitude'][:]\n",
    "lat  = omega_data.variables['latitude'][:]\n",
    "dumb_time = omega_data.variables['time'][:]\n",
    "#shortened file: levelist, full file: level\n",
    "p = omega_data.variables['level'][:]\n",
    "\n",
    "#convert time to more user-friendly format\n",
    "time = pd.to_datetime(dumb_time, unit='h',\n",
    "                       origin=pd.Timestamp('1900-01-01'))\n",
    "\n",
    "#for boolean indexing\n",
    "latidx = (lat >=lat_lims[0] ) & (lat <=lat_lims[1] )\n",
    "\n",
    "#only take pressures greater than 10hPa (for plotting purposes)\n",
    "pidx = p >= 70\n",
    "\n",
    "#subset new tensors for correct latitude, pressure ranges\n",
    "omega_lat = omega[:, :, latidx, :]\n",
    "omega_lat_p = omega_lat[:, pidx, :, :]"
   ]
  },
  {
   "cell_type": "code",
   "execution_count": 4,
   "metadata": {},
   "outputs": [
    {
     "name": "stdout",
     "output_type": "stream",
     "text": [
      "(12, 28, 27, 240)\n",
      "(468, 28, 27, 240)\n"
     ]
    }
   ],
   "source": [
    "#create monthly means for normalization\n",
    "monthly_means = monthly_means_annual(omega_lat_p, time)\n",
    "print(np.shape(monthly_means))\n",
    "print(np.shape(omega_lat_p))"
   ]
  },
  {
   "cell_type": "code",
   "execution_count": 5,
   "metadata": {},
   "outputs": [],
   "source": [
    "#normalize omega data, subtract monthly means\n",
    "count = 1\n",
    "for i in np.arange(1979, 2018):\n",
    "    for j in np.arange(1, 13):\n",
    "        month = time[count-1].month - 1\n",
    "        #print(i, j, time[count-1].month, month)\n",
    "        omega_lat_p[count-1] = omega_lat_p[count-1] - monthly_means[month]\n",
    "        count = count + 1"
   ]
  },
  {
   "cell_type": "markdown",
   "metadata": {},
   "source": [
    "### Start Mask Here"
   ]
  },
  {
   "cell_type": "markdown",
   "metadata": {},
   "source": [
    "### For difference plot, need to:\n",
    "- up: replace negative values w/ 1, change all positive omegas to NaN: $M^{up}$\n",
    "- down: replace negative values w/ NaN, change all positive omegas to 1: $M^{down}$\n",
    "- multiply by cos(lat) matrix to weight omega properly: $M^n*cos\\phi$\n",
    "- nan mean over lat (along lon dimension)\n",
    "- integrate (average) over time dimension\n",
    "- divide by total area: $\\Sigma A^{total}$\n",
    "- Weighted average $= \\frac{\\Sigma A^{up}X + \\Sigma A^{down}X}{\\Sigma A^{total}}$"
   ]
  },
  {
   "cell_type": "code",
   "execution_count": 6,
   "metadata": {},
   "outputs": [
    {
     "name": "stderr",
     "output_type": "stream",
     "text": [
      "/home/jakidxav/anaconda3/lib/python3.7/site-packages/ipykernel_launcher.py:8: RuntimeWarning: invalid value encountered in less\n",
      "  \n"
     ]
    }
   ],
   "source": [
    "#copy array for creating mask\n",
    "mask_up = copy.deepcopy(omega_lat_p)\n",
    "mask_down = copy.deepcopy(omega_lat_p)\n",
    "mask_total = copy.deepcopy(omega_lat_p)\n",
    "\n",
    "#upward mask: M_up\n",
    "mask_up[np.where(mask_up > 0)] = np.nan\n",
    "mask_up[np.where(mask_up < 0)] = 1\n",
    "\n",
    "#downward mask: M_down\n",
    "mask_down[np.where(mask_down > 0)] = 1\n",
    "mask_down[np.where(mask_down < 0)] = np.nan\n",
    "\n",
    "#total mask for A_total\n",
    "mask_total.fill(1)\n",
    "\n",
    "#MX\n",
    "mask_var_up = np.multiply(omega_lat_p, mask_up)\n",
    "mask_var_down = np.multiply(omega_lat_p, mask_down)"
   ]
  },
  {
   "cell_type": "code",
   "execution_count": 7,
   "metadata": {},
   "outputs": [],
   "source": [
    "#create cos(lat) matrix\n",
    "cos_lat_ = np.asmatrix(np.cos(np.deg2rad(lat[latidx]))).T\n",
    "cos_lat_matrix = np.multiply(np.ones((27,240)), cos_lat_)\n",
    "\n",
    "#MXcos(lat) = AX\n",
    "mask_var_coslat_up = np.multiply(mask_var_up, cos_lat_matrix)\n",
    "mask_var_coslat_down = np.multiply(mask_var_down, cos_lat_matrix)\n",
    "\n",
    "#A_total\n",
    "mask_total_coslat = np.multiply(mask_total, cos_lat_matrix)"
   ]
  },
  {
   "cell_type": "code",
   "execution_count": 8,
   "metadata": {},
   "outputs": [],
   "source": [
    "##from scipy import ndimage\n",
    "#fig, ax = plt.subplots(1, 2, figsize=(14, 7))\n",
    "#ax[0].pcolormesh(mask_total_coslat[0,27])\n",
    "#ax[1].plot(cos_lat, np.arange(len(cos_lat)))\n",
    "#plt.savefig('lat_lon_weighting', format='pdf')"
   ]
  },
  {
   "cell_type": "code",
   "execution_count": 9,
   "metadata": {},
   "outputs": [
    {
     "name": "stderr",
     "output_type": "stream",
     "text": [
      "/home/jakidxav/anaconda3/lib/python3.7/site-packages/ipykernel_launcher.py:2: RuntimeWarning: Mean of empty slice\n",
      "  \n",
      "/home/jakidxav/anaconda3/lib/python3.7/site-packages/ipykernel_launcher.py:3: RuntimeWarning: Mean of empty slice\n",
      "  This is separate from the ipykernel package so we can avoid doing imports until\n"
     ]
    }
   ],
   "source": [
    "#nan mean over lat (along lon dimension)\n",
    "mask_var_nanmean_up = np.nanmean(mask_var_coslat_up, axis=2)\n",
    "mask_var_nanmean_down = np.nanmean(mask_var_coslat_down, axis=2)\n",
    "\n",
    "mask_total_mean = np.mean(mask_total_coslat, axis=2)"
   ]
  },
  {
   "cell_type": "code",
   "execution_count": 10,
   "metadata": {},
   "outputs": [],
   "source": [
    "#integrate, or sum over time dimension\n",
    "#NEED TO NAN SUM, ΣMXcos(lat) = ΣAX\n",
    "sum_mask_var_up = np.nanmean(mask_var_nanmean_up, axis=0)\n",
    "sum_mask_var_down = np.nanmean(mask_var_nanmean_down, axis=0)\n",
    "\n",
    "#ΣA_total\n",
    "sum_mask_total = np.nanmean(mask_total_mean, axis=0)\n",
    "\n",
    "#(ΣAX_up + ΣAX_down)/ ΣA_total\n",
    "difference = (sum_mask_var_up * 100 + sum_mask_var_down * 100) / sum_mask_total"
   ]
  },
  {
   "cell_type": "code",
   "execution_count": 11,
   "metadata": {},
   "outputs": [
    {
     "name": "stdout",
     "output_type": "stream",
     "text": [
      "(28, 240)\n"
     ]
    }
   ],
   "source": [
    "#shift array to have Tropics in the middle\n",
    "zeros = np.zeros((28, 240))\n",
    "zeros[:, 0:120] = difference[:, 60:180]\n",
    "zeros[:, 120:180] = difference[:, 180:240]\n",
    "zeros[:, 180:240] = difference[:, 0:60]\n",
    "\n",
    "print(np.shape(zeros))"
   ]
  },
  {
   "cell_type": "code",
   "execution_count": 12,
   "metadata": {},
   "outputs": [
    {
     "name": "stdout",
     "output_type": "stream",
     "text": [
      "0.038020905184922876\n",
      "-0.5023811388510431\n"
     ]
    }
   ],
   "source": [
    "print(np.max(zeros))\n",
    "print(np.min(zeros))"
   ]
  },
  {
   "cell_type": "markdown",
   "metadata": {},
   "source": [
    "# $\\omega$ Map"
   ]
  },
  {
   "cell_type": "code",
   "execution_count": 14,
   "metadata": {},
   "outputs": [
    {
     "data": {
      "text/plain": [
       "<Figure size 21600x5400 with 0 Axes>"
      ]
     },
     "metadata": {},
     "output_type": "display_data"
    },
    {
     "data": {
      "image/png": "[encoded data removed]",
      "text/plain": [
       "<Figure size 432x288 with 3 Axes>"
      ]
     },
     "metadata": {
      "needs_background": "light"
     },
     "output_type": "display_data"
    }
   ],
   "source": [
    "plotting.plot_contours_latHeight(vmin, vmax, zeros, contours, colormap, colorbar_label, left_title_diff, right_title_diff_full, \n",
    "                                 p_list, p_label, lon_list, shifted_labels_eastWest, p_tick_list, z_label, figure_name_diff_full, False)"
   ]
  },
  {
   "cell_type": "code",
   "execution_count": null,
   "metadata": {},
   "outputs": [],
   "source": []
  },
  {
   "cell_type": "code",
   "execution_count": null,
   "metadata": {},
   "outputs": [],
   "source": []
  }
 ],
 "metadata": {
  "kernelspec": {
   "display_name": "Python 3",
   "language": "python",
   "name": "python3"
  },
  "language_info": {
   "codemirror_mode": {
    "name": "ipython",
    "version": 3
   },
   "file_extension": ".py",
   "mimetype": "text/x-python",
   "name": "python",
   "nbconvert_exporter": "python",
   "pygments_lexer": "ipython3",
   "version": "3.7.2"
  }
 },
 "nbformat": 4,
 "nbformat_minor": 2
}
