{
 "cells": [
  {
   "cell_type": "code",
   "execution_count": 2,
   "metadata": {},
   "outputs": [],
   "source": [
    "import os\n",
    "import netCDF4 as nc\n",
    "import numpy as np\n",
    "import pandas as pd\n",
    "from datetime import datetime\n",
    "\n",
    "import matplotlib.ticker as ticker\n",
    "import matplotlib as mpl\n",
    "import matplotlib.pyplot as plt\n",
    "import matplotlib.transforms as transform\n",
    "import matplotlib.cm as cm\n",
    "%matplotlib inline\n",
    "import cmocean\n",
    "import plotting\n",
    "from takeout import monthly_means_annual\n",
    "\n",
    "import copy"
   ]
  },
  {
   "cell_type": "code",
   "execution_count": 3,
   "metadata": {},
   "outputs": [],
   "source": [
    "# constant declarations\n",
    "#lat1 < lat2\n",
    "lat1 = -20\n",
    "lat2 = 20\n",
    "\n",
    "lat_lims = [lat1,lat2]\n",
    "\n",
    "\n",
    "#variable files on disk\n",
    "omega_file_full = '/home/jakidxav/Desktop/work_hartmann/erai_monthly/omega_7917.nc'\n",
    "\n",
    "#lists for plotting\n",
    "lon_list = [0, 20, 40, 60, 80, 100, 120, 140, 160, 180, 200, 220, 239]\n",
    "lon_list_labels = [0, 30, 60, 90, 120, 150, 180, 210, 240, 270, 300, 330, 358.5]\n",
    "\n",
    "#longitude labels will need to be shifted because we are changing the central longitude in our plotting method\n",
    "shifted_lon_list = [60, 80, 100, 120, 140, 160, 180, 200, 220, 239, 0, 20, 40]\n",
    "shifted_lon_list_labels = [90, 120, 150, 180, 210, 240, 270, 300, 330, 358.5, 0, 30, 60]\n",
    "shifted_labels_eastWest = ['90E', '120E', '150E', '180', '150W', '120W', '90W', '60W', '30W', '0', '30E', '60E', '90E']\n",
    "\n",
    "#y axis tick marks and labels: pressure and height\n",
    "p_tick_list = [0, 1, 5, 8, 12, 16, 28]\n",
    "p_list = [70, 100, 200, 300, 500, 700, 1000]\n",
    "z_list = [5, 10, 15, 20, 25]\n",
    "\n",
    "#for plotting\n",
    "vmin = -0.0325\n",
    "vmax = 0.035\n",
    "contours = np.arange(vmin, vmax, 0.0025)\n",
    "\n",
    "colormap = cmocean.cm.balance\n",
    "colorbar_label = r\"$hPa \\hspace{1} s^{-1} \\hspace{1} m^{-2}$\"\n",
    "\n",
    "jja = 'JJA '\n",
    "#different titles for upward and downward omega\n",
    "left_title_u = '$-\\omega$ Mask, '\n",
    "left_title_d = '$\\omega$ Mask, '\n",
    "lat_band = str(lat_lims)\n",
    "\n",
    "#need to change season string here\n",
    "left_title_up = jja+left_title_u+lat_band\n",
    "left_title_down = jja+left_title_d+lat_band\n",
    "\n",
    "#set right title, the total years that our dataset spans\n",
    "right_title = '1979-2017'\n",
    "\n",
    "#axis labels\n",
    "p_label = 'Pressure (mb)'\n",
    "z_label = 'Height (km)'\n",
    "\n",
    "#save figure name for saving output\n",
    "figure_name_up_jja = 'lon_omegaUp_'+str(lat_lims[0])+'_'+str(lat_lims[1])+'_'+'massFlux_JJA.pdf'\n",
    "figure_name_d_jja = 'lon_omegaDown_'+str(lat_lims[0])+'_'+str(lat_lims[1])+'_'+'massFlux_JJA.pdf'"
   ]
  },
  {
   "cell_type": "markdown",
   "metadata": {},
   "source": [
    "### Data Import\n",
    "\n",
    "In this Notebook, I will show how to read in NetCDF files in Python. \n",
    "\n",
    "In another program, I will show a method for removing the annual cycle in [Xarray](http://xarray.pydata.org/en/stable/). In that Notebook, I will save a number of variables and their respective monthly anomalies so that they can be loaded directly using NumPy."
   ]
  },
  {
   "cell_type": "code",
   "execution_count": 4,
   "metadata": {},
   "outputs": [],
   "source": [
    "#read in data files\n",
    "#omega is in hPa NOT Pa\n",
    "omega_data = nc.Dataset(omega_file_full)\n",
    "\n",
    "#process variables\n",
    "omega_ = omega_data.variables['w'][:]\n",
    "\n",
    "lon  = omega_data.variables['longitude'][:]\n",
    "lat  = omega_data.variables['latitude'][:]\n",
    "dumb_time = omega_data.variables['time'][:]\n",
    "#shortened file: levelist, full file: level\n",
    "p = omega_data.variables['level'][:]\n",
    "\n",
    "#convert time to more user-friendly format\n",
    "time = pd.to_datetime(dumb_time, unit='h',\n",
    "                       origin=pd.Timestamp('1900-01-01'))\n",
    "\n",
    "#for boolean indexing\n",
    "latidx = (lat >=lat_lims[0] ) & (lat <=lat_lims[1] )\n",
    "\n",
    "#only take pressures greater than 10hPa (for plotting purposes)\n",
    "pidx = p >= 70\n",
    "\n",
    "#subset for jja months\n",
    "tidx = np.logical_or(time.month == 6, np.logical_or(time.month == 7, time.month == 8))\n",
    "\n",
    "#subset new tensors for correct latitude, pressure ranges\n",
    "omega_lat = omega_[:, :, latidx, :]\n",
    "omega_lat_p = omega_lat[:, pidx, :, :]"
   ]
  },
  {
   "cell_type": "code",
   "execution_count": 5,
   "metadata": {},
   "outputs": [],
   "source": [
    "#take out monthly means\n",
    "monthly_means = monthly_means_annual(omega_lat_p, time)\n",
    "\n",
    "#subtract monthly means, remove annual cycle\n",
    "count = 1\n",
    "for i in np.arange(1979, 2018):\n",
    "    for j in np.arange(1, 13):\n",
    "        month = time[count-1].month - 1\n",
    "        omega_lat_p[count-1] = omega_lat_p[count-1] - monthly_means[month]\n",
    "        count = count + 1"
   ]
  },
  {
   "cell_type": "code",
   "execution_count": 6,
   "metadata": {},
   "outputs": [
    {
     "name": "stdout",
     "output_type": "stream",
     "text": [
      "Int64Index([6, 7, 8, 6, 7, 8, 6, 7, 8, 6,\n",
      "            ...\n",
      "            8, 6, 7, 8, 6, 7, 8, 6, 7, 8],\n",
      "           dtype='int64', length=117)\n"
     ]
    }
   ],
   "source": [
    "#the only months that should show up are 6, 7, 8\n",
    "print(time.month[tidx])"
   ]
  },
  {
   "cell_type": "markdown",
   "metadata": {},
   "source": [
    "### Start Mask Here\n",
    "\n",
    "Here, we are going to make upward and downward pressure velocity masks. It is important to note that upward pressure velocity is negative (because pressure decreases with height). For the upward pressure velocity mask, wherever $\\omega$ is negaitive we will change that value to a 1 and wherever it is positive, or downward, we will change that value to a NaN. We can then do the same thing for the downward mask, with the 1's and NaN's flipped."
   ]
  },
  {
   "cell_type": "code",
   "execution_count": 7,
   "metadata": {},
   "outputs": [
    {
     "name": "stderr",
     "output_type": "stream",
     "text": [
      "/home/jakidxav/anaconda3/lib/python3.6/site-packages/ipykernel_launcher.py:7: RuntimeWarning: invalid value encountered in less\n",
      "  import sys\n"
     ]
    }
   ],
   "source": [
    "#copy array for creating mask\n",
    "mask_up = copy.deepcopy(omega_lat_p)\n",
    "mask_down = copy.deepcopy(omega_lat_p)\n",
    "\n",
    "#upward mask: M_up\n",
    "mask_up[np.where(mask_up > 0)] = np.nan\n",
    "mask_up[np.where(mask_up < 0)] = 1\n",
    "\n",
    "#downward mask: M_down\n",
    "mask_down[np.where(mask_down > 0)] = 1\n",
    "mask_down[np.where(mask_down < 0)] = np.nan\n",
    "\n",
    "#MX\n",
    "mask_var_up = np.multiply(omega_lat_p, mask_up)\n",
    "mask_var_down = np.multiply(omega_lat_p, mask_down)"
   ]
  },
  {
   "cell_type": "code",
   "execution_count": 9,
   "metadata": {},
   "outputs": [
    {
     "name": "stderr",
     "output_type": "stream",
     "text": [
      "/home/jakidxav/anaconda3/lib/python3.6/site-packages/ipykernel_launcher.py:15: RuntimeWarning: Mean of empty slice\n",
      "  from ipykernel import kernelapp as app\n",
      "/home/jakidxav/anaconda3/lib/python3.6/site-packages/ipykernel_launcher.py:16: RuntimeWarning: Mean of empty slice\n",
      "  app.launch_new_instance()\n",
      "/home/jakidxav/anaconda3/lib/python3.6/site-packages/ipykernel_launcher.py:19: RuntimeWarning: Mean of empty slice\n",
      "/home/jakidxav/anaconda3/lib/python3.6/site-packages/ipykernel_launcher.py:20: RuntimeWarning: Mean of empty slice\n"
     ]
    }
   ],
   "source": [
    "#create cos(lat) matrix\n",
    "cos_lat_ = np.asmatrix(np.cos(np.deg2rad(lat[latidx]))).T\n",
    "cos_lat_matrix = np.multiply(np.ones((27,240)), np.array(cos_lat_))\n",
    "\n",
    "#MXcos(lat) = AX\n",
    "mask_var_coslat_up = np.multiply(mask_var_up, cos_lat_matrix)\n",
    "mask_var_coslat_down = np.multiply(mask_var_down, cos_lat_matrix)\n",
    "\n",
    "#Mcos(lat) = A\n",
    "mask_up_coslat = np.multiply(mask_up, cos_lat_matrix)\n",
    "mask_d_coslat = np.multiply(mask_down, cos_lat_matrix)\n",
    "\n",
    "#nan mean over lat (along lon dimension)\n",
    "#area_variable masks\n",
    "mask_var_nanmean_up = np.nanmean(mask_var_coslat_up, axis=2)\n",
    "mask_var_nanmean_down = np.nanmean(mask_var_coslat_down, axis=2)\n",
    "\n",
    "#area masks\n",
    "mask_up_nanmean = np.nanmean(mask_up_coslat, axis=2)\n",
    "mask_d_nanmean = np.nanmean(mask_d_coslat, axis=2)"
   ]
  },
  {
   "cell_type": "code",
   "execution_count": 10,
   "metadata": {},
   "outputs": [],
   "source": [
    "#subset for season here\n",
    "mask_var_nanmean_up = mask_var_nanmean_up[tidx]\n",
    "mask_var_nanmean_down = mask_var_nanmean_down[tidx]\n",
    "\n",
    "mask_up_nanmean = mask_up_nanmean[tidx]\n",
    "mask_d_nanmean = mask_d_nanmean[tidx]\n",
    "\n",
    "#integrate, or average over time dimension\n",
    "#need to nanmean, ΣMXcos(lat) = ΣAX\n",
    "mean_mask_var_up = np.nanmean(mask_var_nanmean_up, axis=0)\n",
    "mean_mask_var_down = np.nanmean(mask_var_nanmean_down, axis=0)\n",
    "\n",
    "#ΣA_total\n",
    "area_up = np.nanmean(mask_up_nanmean, axis=0)\n",
    "area_down = np.nanmean(mask_d_nanmean, axis=0)\n",
    "\n",
    "#(ΣAX_up + ΣAX_down)/ ΣA_total\n",
    "total_up = np.divide(mean_mask_var_up, area_up)\n",
    "total_down = np.divide(mean_mask_var_down, area_down)"
   ]
  },
  {
   "cell_type": "code",
   "execution_count": 11,
   "metadata": {},
   "outputs": [
    {
     "name": "stdout",
     "output_type": "stream",
     "text": [
      "(117, 28, 240)\n"
     ]
    }
   ],
   "source": [
    "print(mask_var_nanmean_up.shape)"
   ]
  },
  {
   "cell_type": "code",
   "execution_count": 12,
   "metadata": {},
   "outputs": [],
   "source": [
    "#shift array to have Tropics in the middle\n",
    "#upward jja mask\n",
    "zeros = np.zeros((28, 240))\n",
    "zeros[:, 0:120] = mean_mask_var_up[:, 60:180]\n",
    "zeros[:, 120:180] = mean_mask_var_up[:, 180:240]\n",
    "zeros[:, 180:240] = mean_mask_var_up[:, 0:60]\n",
    "\n",
    "#downward jja mask\n",
    "zeros2 = np.zeros((28, 240))\n",
    "zeros2[:, 0:120] = mean_mask_var_down[:, 60:180]\n",
    "zeros2[:, 120:180] = mean_mask_var_down[:, 180:240]\n",
    "zeros2[:, 180:240] = mean_mask_var_down[:, 0:60]"
   ]
  },
  {
   "cell_type": "markdown",
   "metadata": {},
   "source": [
    "### $\\omega$ Mask Plots"
   ]
  },
  {
   "cell_type": "code",
   "execution_count": 13,
   "metadata": {},
   "outputs": [
    {
     "data": {
      "text/plain": [
       "<Figure size 1008x1008 with 0 Axes>"
      ]
     },
     "metadata": {},
     "output_type": "display_data"
    },
    {
     "data": {
      "image/png": "[encoded data removed]",
      "text/plain": [
       "<Figure size 432x288 with 3 Axes>"
      ]
     },
     "metadata": {
      "needs_background": "light"
     },
     "output_type": "display_data"
    }
   ],
   "source": [
    "plotting.plot_contours_latHeight(vmin, vmax, zeros, contours, colormap, colorbar_label, left_title_up, right_title, \n",
    "                                 p_list, p_label, lon_list, shifted_labels_eastWest, p_tick_list, z_label, figure_name_up_jja, False)"
   ]
  },
  {
   "cell_type": "code",
   "execution_count": 14,
   "metadata": {},
   "outputs": [
    {
     "data": {
      "text/plain": [
       "<Figure size 1008x1008 with 0 Axes>"
      ]
     },
     "metadata": {},
     "output_type": "display_data"
    },
    {
     "data": {
      "image/png": "[encoded data removed]",
      "text/plain": [
       "<Figure size 432x288 with 3 Axes>"
      ]
     },
     "metadata": {
      "needs_background": "light"
     },
     "output_type": "display_data"
    }
   ],
   "source": [
    "plotting.plot_contours_latHeight(vmin, vmax, zeros2, contours, colormap, colorbar_label, left_title_down, right_title, \n",
    "                                 p_list, p_label, lon_list, shifted_labels_eastWest, p_tick_list, z_label, figure_name_d_jja, False)"
   ]
  },
  {
   "cell_type": "markdown",
   "metadata": {},
   "source": [
    "We can see that in the June, July, August montly subset of the upward pressure velocity mask, there are distinct shallow and deep convection cells in the Eastern and Western Pacific respectively. In the other seasonal subsets, this difference is not as well pronouned which shows that there is some seasonal dependence to the ways in which shallow convection cells form in the Eastern Pacific."
   ]
  },
  {
   "cell_type": "code",
   "execution_count": null,
   "metadata": {},
   "outputs": [],
   "source": []
  }
 ],
 "metadata": {
  "kernelspec": {
   "display_name": "Python 3",
   "language": "python",
   "name": "python3"
  },
  "language_info": {
   "codemirror_mode": {
    "name": "ipython",
    "version": 3
   },
   "file_extension": ".py",
   "mimetype": "text/x-python",
   "name": "python",
   "nbconvert_exporter": "python",
   "pygments_lexer": "ipython3",
   "version": "3.6.8"
  }
 },
 "nbformat": 4,
 "nbformat_minor": 2
}
