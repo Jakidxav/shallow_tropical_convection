{
 "cells": [
  {
   "cell_type": "code",
   "execution_count": 1,
   "metadata": {},
   "outputs": [],
   "source": [
    "import netCDF4 as nc\n",
    "import numpy as np\n",
    "from numpy.linalg import svd , eig, inv\n",
    "import scipy.stats as stats\n",
    "from datetime import datetime\n",
    "\n",
    "import matplotlib as mpl\n",
    "import matplotlib.pyplot as plt\n",
    "import matplotlib.cm as cm\n",
    "%matplotlib inline\n",
    "import seaborn as sns\n",
    "import cmocean\n",
    "\n",
    "from plotting import *"
   ]
  },
  {
   "cell_type": "code",
   "execution_count": 3,
   "metadata": {},
   "outputs": [],
   "source": [
    "#files on disk\n",
    "mask_full_file = './data/omega_upward_mask_2020_full.npy'\n",
    "\n",
    "#variable files on disk\n",
    "lon_file = './data/lon.npy'\n",
    "lat_file = './data/lat.npy'\n",
    "p_file = './data/p.npy'\n",
    "time_file = './data/time.npy'\n",
    "\n",
    "#constants\n",
    "monmax = 468\n",
    "monmax_sub = 117\n",
    "lonmax = 240\n",
    "p_levels = 28\n",
    "\n",
    "lat1 = 20\n",
    "lat2 = -20\n",
    "lat_lims = [lat1, lat2]\n",
    "\n",
    "#set colormap\n",
    "colormap = cmocean.cm.balance\n",
    "\n",
    "#left and right title names\n",
    "left_title = '-$\\omega$ Mask'\n",
    "eof_title = ', EOF '\n",
    "all_months = ', All Months'\n",
    "\n",
    "right_title = '1979-2017'\n",
    "\n",
    "#axis labels\n",
    "p_label = 'Pressure (mb)'\n",
    "z_label = 'Height (km)'"
   ]
  },
  {
   "cell_type": "code",
   "execution_count": 5,
   "metadata": {},
   "outputs": [],
   "source": [
    "#load files\n",
    "mask_full = np.load(mask_full_file)\n",
    "\n",
    "lon = np.load(lon_file)\n",
    "lat = np.load(lat_file)\n",
    "p = np.load(p_file)\n",
    "time = np.load(time_file)\n",
    "\n",
    "#replace NaNs with zeros for autocorrelation and DOF calculation\n",
    "mask_full[np.where(np.isnan(mask_full))] = 0"
   ]
  },
  {
   "cell_type": "markdown",
   "metadata": {},
   "source": [
    "The shape of our data is (time, pressure, longitude). In a previous Notebook I weighted our upward pressure velocity mask arrays by cos(latitude) for [20N, 20S] and then averaged over that dimension."
   ]
  },
  {
   "cell_type": "code",
   "execution_count": 6,
   "metadata": {},
   "outputs": [
    {
     "name": "stdout",
     "output_type": "stream",
     "text": [
      "(468, 28, 240)\n"
     ]
    }
   ],
   "source": [
    "print(mask_full.shape)"
   ]
  },
  {
   "cell_type": "code",
   "execution_count": 7,
   "metadata": {},
   "outputs": [],
   "source": [
    "#instead of dimensions (time, pressure, longitude), we want (pressure, time, longitude)\n",
    "mask_full_p = np.transpose(mask_full, (1, 0, 2))\n",
    "\n",
    "#subset pressure levels to match seasonal mask\n",
    "p = p[p>=70]"
   ]
  },
  {
   "cell_type": "markdown",
   "metadata": {},
   "source": [
    "Now we are going to subset for one particular pressure level (about half way up) so that when we are calculating the degrees of freedom we only have to take into account one variable. If we kept pressure, we would need to calculate degrees of freedom for both time and longitude and then combine them somehow."
   ]
  },
  {
   "cell_type": "code",
   "execution_count": 8,
   "metadata": {},
   "outputs": [],
   "source": [
    "#subset the full mask at 500 mb for autocorrelation computation\n",
    "mask_full_500 = mask_full_p[12, :, :]"
   ]
  },
  {
   "cell_type": "code",
   "execution_count": 9,
   "metadata": {},
   "outputs": [
    {
     "name": "stdout",
     "output_type": "stream",
     "text": [
      "(468, 240)\n"
     ]
    }
   ],
   "source": [
    "#(time, longitude)\n",
    "print(mask_full_500.shape)"
   ]
  },
  {
   "cell_type": "markdown",
   "metadata": {},
   "source": [
    "Below, I am going to calculate and then plot the EOFs of this matrix in terms of pressure, to determine which pressures (across all months or a subset of months) explain the most variance. To do so, I will need to follow these steps:\n",
    "- Calculate degrees of freedom from Bretherton et al. (1999): $\\frac{N^*}{N} = \\frac{1-r(\\Delta t)^2}{1+r(\\Delta t)^2}$, where $r \\Delta (t)$ is the autocorrelation function\n",
    "- Perform Eigen Analysis on the covariance matrix of (pressure, longitude)\n",
    "- Plot eigenvalue spectrum, which is $\\sigma_i$, where $\\sigma^2_i = \\lambda_i n$\n",
    "- Put error bars (confidence limits) on eigenvalue spectrum from North et al. criterion: $\\Delta \\lambda = \\lambda \\sqrt{\\frac{2}{N^*}}$\n",
    "\n",
    "Then we can determine which EOFs are independent from the eigenvalue spectrum by looking to see if their error bars overlap."
   ]
  },
  {
   "cell_type": "markdown",
   "metadata": {},
   "source": [
    "### Autocorrelation and DOF"
   ]
  },
  {
   "cell_type": "code",
   "execution_count": 10,
   "metadata": {},
   "outputs": [],
   "source": [
    "#create matrices that are 1 month apart\n",
    "mask1 = mask_full_500[:-1]\n",
    "mask2 = mask_full_500[1:]\n",
    "\n",
    "#autocorrelation of sst for one month time lag\n",
    "#element-wise multiply our two 1-month lag matrices, sum over all dimensions\n",
    "top = np.sum(np.multiply(mask1, mask2))\n",
    "\n",
    "#element-wise multiply the sum of the squared 1-month time lag matrices, take square root\n",
    "bottom = np.sqrt(np.multiply(np.sum(mask1**2), np.sum(mask2**2)))\n",
    "\n",
    "#calculate autocorrelation\n",
    "autt = top / bottom\n",
    "\n",
    "#calculate degrees of freedom for all months\n",
    "dof = monmax * (1 - autt*autt) / (1 + autt*autt)"
   ]
  },
  {
   "cell_type": "code",
   "execution_count": 11,
   "metadata": {},
   "outputs": [
    {
     "name": "stdout",
     "output_type": "stream",
     "text": [
      "Autocorrelation:     0.84012\n",
      "Degrees of freedom:  80.71688\n"
     ]
    }
   ],
   "source": [
    "#autocorrelation should be much bigger\n",
    "print('Autocorrelation:    ', np.round(autt, 5))\n",
    "print('Degrees of freedom: ', np.round(dof, 5))"
   ]
  },
  {
   "cell_type": "markdown",
   "metadata": {},
   "source": [
    "### EOFs Through Covariance Matrix"
   ]
  },
  {
   "cell_type": "code",
   "execution_count": 12,
   "metadata": {},
   "outputs": [],
   "source": [
    "#flatten the array\n",
    "mask_reshape_p = np.reshape(mask_full_p, (p_levels, -1))\n",
    "\n",
    "#sample size is time * longitude\n",
    "C = np.matmul(mask_reshape_p, mask_reshape_p.T) / (lonmax * monmax_sub)"
   ]
  },
  {
   "cell_type": "code",
   "execution_count": 13,
   "metadata": {},
   "outputs": [
    {
     "data": {
      "text/plain": [
       "(28, 28)"
      ]
     },
     "execution_count": 13,
     "metadata": {},
     "output_type": "execute_result"
    }
   ],
   "source": [
    "#so now our covariance matrix is only in terms of pressure\n",
    "C.shape"
   ]
  },
  {
   "cell_type": "markdown",
   "metadata": {},
   "source": [
    "Here is are some handy things to keep in mind when doing EOF analysis, how we can get from the covariance matrix to our EOFs, and then determine how those EOFs are independent.\n",
    "\n",
    "- EOFs are the eigenvectors of a covariance matrix \n",
    "\n",
    "- the eigenvalues are ordered by size, and measure the variance explained by each eigenvector\n",
    "\n",
    "- The eigenvectors are orthogonal in the structure dimension.\n",
    "\n",
    "- The principal components are uncorrelated in the sampling dimension (double orthogonality)\n",
    "\n",
    "- So no variance is shared between eigenvectors, we get the total variance explained by summing the eigenvalues."
   ]
  },
  {
   "cell_type": "code",
   "execution_count": 14,
   "metadata": {},
   "outputs": [],
   "source": [
    "#https://docs.scipy.org/doc/numpy/reference/generated/numpy.linalg.eig.html\n",
    "#w: The eigenvalues, each repeated according to its multiplicity. \n",
    "#v: The normalized (unit “length”) eigenvectors\n",
    "eigvals, eigvectors = eig(C)\n",
    "\n",
    "#calculate error bars\n",
    "total_eig = np.sum(eigvals)\n",
    "total_var = eigvals / total_eig\n",
    "delta = total_var * np.sqrt(2 / dof)"
   ]
  },
  {
   "cell_type": "code",
   "execution_count": 16,
   "metadata": {},
   "outputs": [
    {
     "name": "stdout",
     "output_type": "stream",
     "text": [
      "[0.914001, 0.041599, 0.015975, 0.008163, 0.006136, 0.003525, 0.002393, 0.001609, 0.001203, 0.000889, 0.000713, 0.000564, 0.000469, 6e-06, 0.000413, 3.7e-05, 5.1e-05, 0.000356, 8.1e-05, 9.6e-05, 0.000137, 0.000141, 0.000173, 0.000205, 0.000228, 0.000302, 0.000279, 0.000257]\n"
     ]
    }
   ],
   "source": [
    "#print how much variance each EOF explains\n",
    "print([np.round(float(var), 6) for var in total_var])"
   ]
  },
  {
   "cell_type": "code",
   "execution_count": 17,
   "metadata": {},
   "outputs": [
    {
     "data": {
      "image/png": "[encoded data removed]",
      "text/plain": [
       "<Figure size 1008x432 with 2 Axes>"
      ]
     },
     "metadata": {
      "needs_background": "light"
     },
     "output_type": "display_data"
    }
   ],
   "source": [
    "#plot the singular value spectrum with error bars\n",
    "figure, axis = plt.subplots(1, 2, figsize=(14, 6))\n",
    "\n",
    "#plot eigenvalues as a fraction of total variance\n",
    "axis[0].errorbar(np.arange(0, 28), total_var[:28], yerr=delta[:28], ecolor='r', capsize=10)\n",
    "axis[1].errorbar(np.arange(0, 27), total_var[1:28], yerr=delta[1:28], ecolor='r', capsize=10)\n",
    "\n",
    "axis[0].set_title('')\n",
    "axis[1].set_title('')\n",
    "\n",
    "#add title\n",
    "figure.suptitle('$\\lambda$ Spectrum with Confidence Limits, Upward $\\omega$ Mask as a Function of Pressure, All Months', fontsize=20)\n",
    "\n",
    "#set x labels\n",
    "axis[0].set_xlabel('Values 1-28', fontsize=15)\n",
    "axis[1].set_xlabel('Values 2-28', fontsize=15)\n",
    "\n",
    "plt.show()"
   ]
  },
  {
   "cell_type": "markdown",
   "metadata": {},
   "source": [
    "So: the first 3 EOFs are most likely independent. However, the first EOF explains more than 90% of the variance which is not ideal. We would like the number to be high, but it would be nice if the second EOF explained more than ~4% of the variance. What this means is that the first EOF dominates any signal that we might find.\n",
    "\n",
    "Below, we can plot the first 2 EOFs to see what their structure looks like."
   ]
  },
  {
   "cell_type": "code",
   "execution_count": 18,
   "metadata": {},
   "outputs": [
    {
     "data": {
      "image/png": "[encoded data removed]",
      "text/plain": [
       "<Figure size 432x288 with 1 Axes>"
      ]
     },
     "metadata": {
      "needs_background": "light"
     },
     "output_type": "display_data"
    }
   ],
   "source": [
    "#plot pressure on y axis\n",
    "y = np.arange(0, 28, 1)\n",
    "pressure = p[y]\n",
    "\n",
    "plot1 = plt.plot(eigvectors[:, 0], pressure, label='EOF1')\n",
    "plot2 = plt.plot(eigvectors[:, 1], pressure, label='EOF2')\n",
    "\n",
    "plt.axhline(y=800, linestyle='--', color='g', label='800 hPa')\n",
    "plt.axhline(y=400, linestyle='--', color='purple', label='400 hPa')\n",
    "\n",
    "plt.gca().invert_yaxis()\n",
    "\n",
    "plt.title('First 2 EOFs of Upward $\\omega$ Mask, Function of Pressure, All Months')\n",
    "plt.legend(bbox_to_anchor=(1.25, 1.0))\n",
    "\n",
    "plt.show()"
   ]
  },
  {
   "cell_type": "markdown",
   "metadata": {},
   "source": [
    "We can see that when EOF1 and EOF2 share the same sign, there is shallow convection (the green line), and when they have opposite signs there is deep convection (the purple line). Signs don't matter so much in EOF analysis, but how signs relate to each other is important.\n",
    "\n",
    "However, we may need to filter our signal before continuing, because EOF1 is dominating the spatial structure. When we do the analysis for the monthly subsets (DJF, MAM, etc.) this is also the case."
   ]
  }
 ],
 "metadata": {
  "kernelspec": {
   "display_name": "Python 3",
   "language": "python",
   "name": "python3"
  },
  "language_info": {
   "codemirror_mode": {
    "name": "ipython",
    "version": 3
   },
   "file_extension": ".py",
   "mimetype": "text/x-python",
   "name": "python",
   "nbconvert_exporter": "python",
   "pygments_lexer": "ipython3",
   "version": "3.6.8"
  }
 },
 "nbformat": 4,
 "nbformat_minor": 2
}
